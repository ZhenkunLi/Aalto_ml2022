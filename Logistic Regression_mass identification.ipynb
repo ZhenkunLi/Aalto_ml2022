{
 "cells": [
  {
   "cell_type": "code",
   "execution_count": 1,
   "id": "6b0bbb24-7a1e-46a6-b8a5-cadd9781f709",
   "metadata": {},
   "outputs": [],
   "source": [
    "import datetime\n",
    "from time import time\n",
    "import matplotlib.pyplot as plt\n",
    "import numpy as np\n",
    "import pandas as pd\n",
    "from sklearn.decomposition import PCA\n",
    "from sklearn.linear_model import LogisticRegression as LR\n",
    "from sklearn.model_selection import (GridSearchCV,\n",
    "    ShuffleSplit,\n",
    "    StratifiedShuffleSplit,\n",
    "    cross_val_score,\n",
    "    learning_curve,\n",
    "    train_test_split,)\n",
    "from sklearn.preprocessing import LabelEncoder, StandardScaler\n",
    "from sklearn.svm import SVC\n",
    "\n",
    "%matplotlib inline"
   ]
  },
  {
   "cell_type": "markdown",
   "id": "005bc47b-663f-4f71-8d50-ecebf5b4a18a",
   "metadata": {
    "tags": []
   },
   "source": [
    "## Import data"
   ]
  },
  {
   "cell_type": "code",
   "execution_count": 2,
   "id": "9554d528-c63a-4218-b8ce-5254f1f67572",
   "metadata": {},
   "outputs": [],
   "source": [
    "Data = pd.DataFrame()\n",
    "xkg = [15,30]\n",
    "data0 = pd.read_csv(\"./5000hz/C_v5_none_freq_1_506.csv\", header=None)\n",
    "data0 = data0.iloc[:50, :]\n",
    "data15 = pd.read_csv(\"./5000hz/C_v5_mid_15kg_freq.csv\", header=None)\n",
    "data30 = pd.read_csv(\"./5000hz/C_v5_mid_30kg_freq.csv\", header=None)\n",
    "freqs = pd.read_csv(\"./5000hz/frequency.csv\", header=None).to_numpy()\n",
    "Data = pd.concat([data0, data15, data30], axis=0)"
   ]
  },
  {
   "cell_type": "code",
   "execution_count": 3,
   "id": "0d8f9725-8672-44e3-ac4e-fcb806433b3a",
   "metadata": {},
   "outputs": [
    {
     "name": "stdout",
     "output_type": "stream",
     "text": [
      "The frequency resolution is:  0.076 Hz\n"
     ]
    }
   ],
   "source": [
    "Data_copy = Data.copy()\n",
    "freq_precision = (freqs[1] - freqs[0])[0]\n",
    "select_freq = 5000 # first 5000 Hz energy spectrum are selected\n",
    "feature_num = int(np.round(select_freq / freq_precision)) + 1  # use the first 5000 Hz data\n",
    "Data_num = Data_copy.iloc[:, :feature_num]\n",
    "print('The frequency resolution is: ',np.round(freq_precision,3),'Hz')"
   ]
  },
  {
   "cell_type": "code",
   "execution_count": 4,
   "id": "94e0a5cc-2026-46db-9112-92469993528b",
   "metadata": {},
   "outputs": [
    {
     "name": "stdout",
     "output_type": "stream",
     "text": [
      "There are 139 datapoints, and 65536 features in total.\n"
     ]
    }
   ],
   "source": [
    "X = Data_num.iloc[:, :-1]  # data points\n",
    "y = Data_copy.iloc[:, -1]  # labels\n",
    "X.index = range(len(X))\n",
    "y.index = range(len(y))\n",
    "# relabel the current labels\n",
    "le = LabelEncoder()  # encode labels\n",
    "le = le.fit(y)  # fit labels\n",
    "y = le.transform(y)  # transform labels\n",
    "print('There are',X.shape[0],'datapoints, and', X.shape[1],'features in total.')"
   ]
  },
  {
   "cell_type": "markdown",
   "id": "c8f0f59d-a419-4942-8df5-6c69204c14fb",
   "metadata": {},
   "source": [
    "## Data visulization"
   ]
  },
  {
   "cell_type": "code",
   "execution_count": 5,
   "id": "90daf5a8-4828-4690-b450-0110b348a8f8",
   "metadata": {
    "tags": []
   },
   "outputs": [
    {
     "data": {
      "image/png": "[encoded data removed]",
      "text/plain": [
       "<Figure size 432x288 with 1 Axes>"
      ]
     },
     "metadata": {
      "needs_background": "light"
     },
     "output_type": "display_data"
    }
   ],
   "source": [
    "pca = PCA(n_components=2).fit(X)\n",
    "X_dr = pca.transform(X)\n",
    "# 2D plot\n",
    "plt.scatter(X_dr[:, 0], X_dr[:, 1], c=y, cmap=\"rainbow\", marker=\"^\", s=20)\n",
    "plt.show()"
   ]
  },
  {
   "cell_type": "markdown",
   "id": "d4f618b1-7956-4473-9d7a-0aea0e105ffd",
   "metadata": {},
   "source": [
    "## StandardScaler"
   ]
  },
  {
   "cell_type": "code",
   "execution_count": 6,
   "id": "deba7d8c-92b5-4fab-b829-311c60e45690",
   "metadata": {},
   "outputs": [
    {
     "name": "stdout",
     "output_type": "stream",
     "text": [
      "Train size is 69\n",
      "Validation size is 35\n",
      "Test size is 35\n"
     ]
    }
   ],
   "source": [
    "# standard scale\n",
    "scaler = StandardScaler().fit(X)\n",
    "X_s = scaler.transform(X)\n",
    "# train_val_test_split \n",
    "Xtrain, Xrem, ytrain, yrem = train_test_split(X_s, y, test_size=0.5, random_state=0)\n",
    "Xval, Xtest, yval, ytest = train_test_split(Xrem, yrem, test_size=0.5, random_state=0)\n",
    "print('Train size is',Xtrain.shape[0])\n",
    "print('Validation size is',Xval.shape[0])\n",
    "print('Test size is',Xtest.shape[0])"
   ]
  },
  {
   "cell_type": "markdown",
   "id": "ee90549b-00d5-40d1-a6f4-3ba7a4645d8e",
   "metadata": {
    "tags": []
   },
   "source": [
    "## Logistic Regression"
   ]
  },
  {
   "cell_type": "markdown",
   "id": "e36d846b-720a-459a-9c03-95f70c23e27a",
   "metadata": {},
   "source": [
    "## Feature selection"
   ]
  },
  {
   "cell_type": "code",
   "execution_count": 7,
   "id": "3cb6c16c-2225-44f4-91ff-3d11e6e6b162",
   "metadata": {
    "tags": []
   },
   "outputs": [
    {
     "data": {
      "image/png": "[encoded data removed]",
      "text/plain": [
       "<Figure size 432x288 with 1 Axes>"
      ]
     },
     "metadata": {
      "needs_background": "light"
     },
     "output_type": "display_data"
    }
   ],
   "source": [
    "train_score = []\n",
    "val_score = []\n",
    "test_score = []\n",
    "for i in range(1,65537,1000):\n",
    "    clf_LR = LR(penalty=\"l2\", C=1, fit_intercept=True, solver=\"lbfgs\", n_jobs=-1, random_state=0).fit(Xtrain[:,:i],ytrain)\n",
    "    LR_train_score = clf_LR.score(Xtrain[:,:i],ytrain)\n",
    "    LR_var_score = clf_LR.score(Xval[:,:i],yval)\n",
    "    LR_test_score = clf_LR.score(Xtest[:,:i],ytest)\n",
    "    train_score.append(LR_train_score)\n",
    "    val_score.append(LR_var_score)\n",
    "    test_score.append(LR_test_score)\n",
    "plt.plot(range(1,65537,1000),train_score)\n",
    "plt.plot(range(1,65537,1000),val_score)\n",
    "plt.plot(range(1,65537,1000),test_score)\n",
    "plt.legend(['train','val','test'])\n",
    "np.savetxt('train_score.csv',train_score,delimiter=',')\n",
    "np.savetxt('val_score.csv',val_score,delimiter=',')\n",
    "np.savetxt('test_score.csv',test_score,delimiter=',')"
   ]
  },
  {
   "cell_type": "markdown",
   "id": "f769dbea-71bc-4084-a6a5-8d5e4f847634",
   "metadata": {},
   "source": [
    "## Selection of hyperparameter $C$"
   ]
  },
  {
   "cell_type": "code",
   "execution_count": 8,
   "id": "680b1f72-d660-4d0e-8d03-423d73612cf3",
   "metadata": {},
   "outputs": [
    {
     "data": {
      "image/png": "[encoded data removed]",
      "text/plain": [
       "<Figure size 432x288 with 1 Axes>"
      ]
     },
     "metadata": {
      "needs_background": "light"
     },
     "output_type": "display_data"
    }
   ],
   "source": [
    "# select the hyperparameter C for LR\n",
    "train_score = []\n",
    "val_score = []\n",
    "test_score = []\n",
    "loop = np.arange(0,2,0.1)\n",
    "features = 8001\n",
    "for i in loop:\n",
    "    clf_LR = LR(penalty=\"l2\", C=i, fit_intercept=True, solver=\"lbfgs\", n_jobs=-1, random_state=0).fit(Xtrain[:,:features],ytrain)\n",
    "    LR_train_score = clf_LR.score(Xtrain[:,:features],ytrain)\n",
    "    LR_var_score = clf_LR.score(Xval[:,:features],yval)\n",
    "    LR_test_score = clf_LR.score(Xtest[:,:features],ytest)\n",
    "    train_score.append(LR_train_score)\n",
    "    val_score.append(LR_var_score)\n",
    "    test_score.append(LR_test_score)\n",
    "plt.plot(loop,train_score)\n",
    "plt.plot(loop,val_score)\n",
    "plt.plot(loop,test_score)\n",
    "plt.legend(['train','val','test'])\n",
    "np.savetxt('train_C.csv',train_score,delimiter=',')\n",
    "np.savetxt('val_C.csv',val_score,delimiter=',')\n",
    "np.savetxt('test_C.csv',test_score,delimiter=',')"
   ]
  },
  {
   "cell_type": "code",
   "execution_count": 9,
   "id": "660c0d9d-f2ee-4ac0-940d-2fd484989a0a",
   "metadata": {},
   "outputs": [
    {
     "name": "stdout",
     "output_type": "stream",
     "text": [
      "The LR's train accuracy is 1.0\n",
      "The LR's validation accuracy is 1.0\n",
      "The LR's test accuracy is 1.0\n"
     ]
    }
   ],
   "source": [
    "features = 8001\n",
    "clf_LR = LR(penalty=\"l2\", C=1.0, fit_intercept=True, solver=\"lbfgs\", n_jobs=-1, random_state=0).fit(Xtrain[:,:features],ytrain)\n",
    "LR_train_score = clf_LR.score(Xtrain[:,:features],ytrain)\n",
    "LR_var_score = clf_LR.score(Xval[:,:features],yval)\n",
    "LR_test_score = clf_LR.score(Xtest[:,:features],ytest)\n",
    "print(\"The LR's train accuracy is\", LR_train_score)\n",
    "print(\"The LR's validation accuracy is\", LR_var_score)\n",
    "print(\"The LR's test accuracy is\", LR_test_score)"
   ]
  },
  {
   "cell_type": "code",
   "execution_count": 10,
   "id": "5a9c6981-7a48-4992-8ce0-00db79fb7dbf",
   "metadata": {},
   "outputs": [
    {
     "name": "stdout",
     "output_type": "stream",
     "text": [
      "The 5-folder cross validation score is 0.964\n"
     ]
    }
   ],
   "source": [
    "features = 8001\n",
    "clf_LR_5 = LR(penalty=\"l2\", C=1.0, fit_intercept=True, solver=\"lbfgs\", n_jobs=-1, random_state=0)\n",
    "c_score = cross_val_score(clf_LR_5, X_s[:,:features], y, cv=5).mean()\n",
    "print('The 5-folder cross validation score is',round(c_score,3))"
   ]
  },
  {
   "cell_type": "code",
   "execution_count": 11,
   "id": "4edd07c3-720e-46ee-bff0-4e4d6089a4c7",
   "metadata": {},
   "outputs": [
    {
     "name": "stdout",
     "output_type": "stream",
     "text": [
      "The training log loss is 0.0\n",
      "The validation log loss is 0.022\n",
      "The testing log loss is 0.041\n"
     ]
    }
   ],
   "source": [
    "from sklearn.metrics import log_loss\n",
    "features = 8001\n",
    "y_train = clf_LR.predict_proba(Xtrain[:,:features])\n",
    "y_val = clf_LR.predict_proba(Xval[:,:features])\n",
    "y_test = clf_LR.predict_proba(Xtest[:,:features])\n",
    "train_loss = log_loss(ytrain,y_train)\n",
    "val_loss=log_loss(yval,y_val)\n",
    "test_loss = log_loss(ytest,y_test)\n",
    "print('The training log loss is', round(train_loss,3))\n",
    "print('The validation log loss is', round(val_loss,3))\n",
    "print('The testing log loss is', round(test_loss,3))"
   ]
  }
 ],
 "metadata": {
  "kernelspec": {
   "display_name": "Python 3 (ipykernel)",
   "language": "python",
   "name": "python3"
  },
  "language_info": {
   "codemirror_mode": {
    "name": "ipython",
    "version": 3
   },
   "file_extension": ".py",
   "mimetype": "text/x-python",
   "name": "python",
   "nbconvert_exporter": "python",
   "pygments_lexer": "ipython3",
   "version": "3.8.8"
  }
 },
 "nbformat": 4,
 "nbformat_minor": 5
}
